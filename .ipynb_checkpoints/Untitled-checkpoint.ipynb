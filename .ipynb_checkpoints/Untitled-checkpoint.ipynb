{
 "cells": [
  {
   "cell_type": "code",
   "execution_count": 38,
   "id": "e295d03b",
   "metadata": {},
   "outputs": [],
   "source": [
    "import requests\n",
    "from bs4 import BeautifulSoup\n",
    "import pandas as pd"
   ]
  },
  {
   "cell_type": "code",
   "execution_count": 39,
   "id": "8caee22b",
   "metadata": {},
   "outputs": [],
   "source": [
    "url = 'https://www.billboard.com/charts/hot-100/'\n",
    "response = requests.get(url)\n",
    "soup = BeautifulSoup(response.content, 'html.parser')"
   ]
  },
  {
   "cell_type": "code",
   "execution_count": 40,
   "id": "79154016",
   "metadata": {},
   "outputs": [],
   "source": [
    "# Find all artist tags\n",
    "artist_tags = soup.find_all(\"span\", class_=\"c-label a-no-trucate a-font-primary-s lrv-u-font-size-14@mobile-max u-line-height-normal@mobile-max u-letter-spacing-0021 lrv-u-display-block a-truncate-ellipsis-2line u-max-width-330 u-max-width-230@tablet-only\")"
   ]
  },
  {
   "cell_type": "code",
   "execution_count": 41,
   "id": "3986cebb",
   "metadata": {},
   "outputs": [],
   "source": [
    "# Find all song tags\n",
    "song_tags = soup.find_all(\"h3\", class_=\"c-title a-no-trucate a-font-primary-bold-s u-letter-spacing-0021 lrv-u-font-size-18@tablet lrv-u-font-size-16 u-line-height-125 u-line-height-normal@mobile-max a-truncate-ellipsis u-max-width-330 u-max-width-230@tablet-only\")"
   ]
  },
  {
   "cell_type": "code",
   "execution_count": 42,
   "id": "dde6d3e7",
   "metadata": {},
   "outputs": [],
   "source": [
    "# Extract artist and song names into separate lists\n",
    "artists = [artist.get_text(strip=True) for artist in artist_tags]\n",
    "songs = [song.get_text(strip=True) for song in song_tags]"
   ]
  },
  {
   "cell_type": "code",
   "execution_count": 43,
   "id": "35d86444",
   "metadata": {},
   "outputs": [],
   "source": [
    "# Create a DataFrame with artist and song names\n",
    "billboard_df = pd.DataFrame({'Artist': artists, 'Song': songs})"
   ]
  },
  {
   "cell_type": "code",
   "execution_count": 44,
   "id": "5c1d2940",
   "metadata": {},
   "outputs": [
    {
     "name": "stdout",
     "output_type": "stream",
     "text": [
      "                  Artist                        Song\n",
      "0             Luke Combs                    Fast Car\n",
      "1               Doja Cat          Paint The Town Red\n",
      "2          Morgan Wallen                  Last Night\n",
      "3           Taylor Swift                Cruel Summer\n",
      "4   Oliver Anthony Music  Rich Men North Of Richmond\n",
      "..                   ...                         ...\n",
      "94           Chris Brown              Summer Too Hot\n",
      "95            Carin Leon                Primera Cita\n",
      "96        Victoria Monet                  On My Mama\n",
      "97              Parmalee                Girl In Mine\n",
      "98            Peso Pluma                     Rubicon\n",
      "\n",
      "[99 rows x 2 columns]\n"
     ]
    }
   ],
   "source": [
    "print(billboard_df)"
   ]
  },
  {
   "cell_type": "code",
   "execution_count": 46,
   "id": "5b02299d",
   "metadata": {},
   "outputs": [],
   "source": [
    "#located in a different location, so we retrieve it separately\n",
    "first_song_artist = soup.find(\"span\", class_=\"c-label a-no-trucate a-font-primary-s lrv-u-font-size-14@mobile-max u-line-height-normal@mobile-max u-letter-spacing-0021 lrv-u-display-block a-truncate-ellipsis-2line u-max-width-330 u-max-width-230@tablet-only u-font-size-20@tablet\").get_text(strip=True)\n",
    "first_song_title = soup.find(\"h3\", class_=\"c-title a-no-trucate a-font-primary-bold-s u-letter-spacing-0021 u-font-size-23@tablet lrv-u-font-size-16 u-line-height-125 u-line-height-normal@mobile-max a-truncate-ellipsis u-max-width-245 u-max-width-230@tablet-only u-letter-spacing-0028@tablet\").get_text(strip=True)"
   ]
  },
  {
   "cell_type": "code",
   "execution_count": 47,
   "id": "6f2d4fa7",
   "metadata": {},
   "outputs": [],
   "source": [
    "# Add the first song to the lists\n",
    "artists.insert(0, first_song_artist)\n",
    "songs.insert(0, first_song_title)"
   ]
  },
  {
   "cell_type": "code",
   "execution_count": 48,
   "id": "ed2ed631",
   "metadata": {},
   "outputs": [],
   "source": [
    "# Create a DataFrame with artists and songs\n",
    "billboard_df = pd.DataFrame({'Artist': artists, 'Song': songs})"
   ]
  },
  {
   "cell_type": "code",
   "execution_count": 49,
   "id": "216e4f6f",
   "metadata": {},
   "outputs": [
    {
     "name": "stdout",
     "output_type": "stream",
     "text": [
      "                                  Artist                   Song\n",
      "0   Zach Bryan Featuring Kacey Musgraves  I Remember Everything\n",
      "1                             Luke Combs               Fast Car\n",
      "2                               Doja Cat     Paint The Town Red\n",
      "3                          Morgan Wallen             Last Night\n",
      "4                           Taylor Swift           Cruel Summer\n",
      "..                                   ...                    ...\n",
      "95                           Chris Brown         Summer Too Hot\n",
      "96                            Carin Leon           Primera Cita\n",
      "97                        Victoria Monet             On My Mama\n",
      "98                              Parmalee           Girl In Mine\n",
      "99                            Peso Pluma                Rubicon\n",
      "\n",
      "[100 rows x 2 columns]\n"
     ]
    }
   ],
   "source": [
    "# Display the DataFrame\n",
    "print(billboard_df)"
   ]
  },
  {
   "cell_type": "code",
   "execution_count": null,
   "id": "44cbdaca",
   "metadata": {},
   "outputs": [],
   "source": []
  }
 ],
 "metadata": {
  "kernelspec": {
   "display_name": "Python 3 (ipykernel)",
   "language": "python",
   "name": "python3"
  },
  "language_info": {
   "codemirror_mode": {
    "name": "ipython",
    "version": 3
   },
   "file_extension": ".py",
   "mimetype": "text/x-python",
   "name": "python",
   "nbconvert_exporter": "python",
   "pygments_lexer": "ipython3",
   "version": "3.9.13"
  }
 },
 "nbformat": 4,
 "nbformat_minor": 5
}
